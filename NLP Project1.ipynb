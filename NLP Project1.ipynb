{
  "cells": [
    {
      "cell_type": "code",
      "execution_count": 10,
      "metadata": {},
      "outputs": [
        {
          "name": "stdout",
          "output_type": "stream",
          "text": [
            "Author- Yashvi Patodi\n",
            "NLP Project-1\n",
            "Data Manipulation and Transformation Project\n",
            "This repository is a project focused on data manipulation and transformation techniques applied to a customer churn dataset. The project encompasses functionalities including efficient CSV file handling, in-depth exploration of data structures, and the execution of complex arithmetic, relational, and logical operations.\n",
            "Key tasks include handling missing values, creating new categorical features, and performing data filtering to extract meaningful insights.\n"
          ]
        }
      ],
      "source": [
        "print(  \n",
        "\"Author- Yashvi Patodi\\n\" \n",
        "\"NLP Project-1\\n\" \n",
        "\"Data Manipulation and Transformation Project\\n\"  \n",
        "\"This repository is a project focused on data manipulation and transformation techniques applied to a customer churn dataset. The project encompasses functionalities including efficient CSV file handling, in-depth exploration of data structures, and the execution of complex arithmetic, relational, and logical operations.\\n\"  \n",
        "\"Key tasks include handling missing values, creating new categorical features, and performing data filtering to extract meaningful insights.\")"
      ]
    },
    {
      "cell_type": "code",
      "execution_count": null,
      "metadata": {
        "colab": {
          "base_uri": "https://localhost:8080/"
        },
        "id": "rcmd99RUsLUQ",
        "outputId": "78e4de12-51f0-4557-f3d9-c5c44ac55272"
      },
      "outputs": [
        {
          "name": "stdout",
          "output_type": "stream",
          "text": [
            "   customerID  gender  SeniorCitizen Partner Dependents  tenure PhoneService  \\\n",
            "0  7590-VHVEG  Female              0     Yes         No       1           No   \n",
            "1  5575-GNVDE    Male              0      No         No      34          Yes   \n",
            "2  3668-QPYBK    Male              0      No         No       2          Yes   \n",
            "3  7795-CFOCW    Male              0      No         No      45           No   \n",
            "4  9237-HQITU  Female              0      No         No       2          Yes   \n",
            "\n",
            "      MultipleLines InternetService OnlineSecurity  ... DeviceProtection  \\\n",
            "0  No phone service             DSL             No  ...               No   \n",
            "1                No             DSL            Yes  ...              Yes   \n",
            "2                No             DSL            Yes  ...               No   \n",
            "3  No phone service             DSL            Yes  ...              Yes   \n",
            "4                No     Fiber optic             No  ...               No   \n",
            "\n",
            "  TechSupport StreamingTV StreamingMovies        Contract PaperlessBilling  \\\n",
            "0          No          No              No  Month-to-month              Yes   \n",
            "1          No          No              No        One year               No   \n",
            "2          No          No              No  Month-to-month              Yes   \n",
            "3         Yes          No              No        One year               No   \n",
            "4          No          No              No  Month-to-month              Yes   \n",
            "\n",
            "               PaymentMethod MonthlyCharges  TotalCharges Churn  \n",
            "0           Electronic check          29.85         29.85    No  \n",
            "1               Mailed check          56.95        1889.5    No  \n",
            "2               Mailed check          53.85        108.15   Yes  \n",
            "3  Bank transfer (automatic)          42.30       1840.75    No  \n",
            "4           Electronic check          70.70        151.65   Yes  \n",
            "\n",
            "[5 rows x 21 columns]\n",
            "      customerID  gender  SeniorCitizen Partner Dependents  tenure  \\\n",
            "7038  6840-RESVB    Male              0     Yes        Yes      24   \n",
            "7039  2234-XADUH  Female              0     Yes        Yes      72   \n",
            "7040  4801-JZAZL  Female              0     Yes        Yes      11   \n",
            "7041  8361-LTMKD    Male              1     Yes         No       4   \n",
            "7042  3186-AJIEK    Male              0      No         No      66   \n",
            "\n",
            "     PhoneService     MultipleLines InternetService OnlineSecurity  ...  \\\n",
            "7038          Yes               Yes             DSL            Yes  ...   \n",
            "7039          Yes               Yes     Fiber optic             No  ...   \n",
            "7040           No  No phone service             DSL            Yes  ...   \n",
            "7041          Yes               Yes     Fiber optic             No  ...   \n",
            "7042          Yes                No     Fiber optic            Yes  ...   \n",
            "\n",
            "     DeviceProtection TechSupport StreamingTV StreamingMovies        Contract  \\\n",
            "7038              Yes         Yes         Yes             Yes        One year   \n",
            "7039              Yes          No         Yes             Yes        One year   \n",
            "7040               No          No          No              No  Month-to-month   \n",
            "7041               No          No          No              No  Month-to-month   \n",
            "7042              Yes         Yes         Yes             Yes        Two year   \n",
            "\n",
            "     PaperlessBilling              PaymentMethod MonthlyCharges  TotalCharges  \\\n",
            "7038              Yes               Mailed check          84.80        1990.5   \n",
            "7039              Yes    Credit card (automatic)         103.20        7362.9   \n",
            "7040              Yes           Electronic check          29.60        346.45   \n",
            "7041              Yes               Mailed check          74.40         306.6   \n",
            "7042              Yes  Bank transfer (automatic)         105.65        6844.5   \n",
            "\n",
            "     Churn  \n",
            "7038    No  \n",
            "7039    No  \n",
            "7040    No  \n",
            "7041   Yes  \n",
            "7042    No  \n",
            "\n",
            "[5 rows x 21 columns]\n",
            "<class 'pandas.core.frame.DataFrame'>\n",
            "RangeIndex: 7043 entries, 0 to 7042\n",
            "Data columns (total 21 columns):\n",
            " #   Column            Non-Null Count  Dtype  \n",
            "---  ------            --------------  -----  \n",
            " 0   customerID        7043 non-null   object \n",
            " 1   gender            7043 non-null   object \n",
            " 2   SeniorCitizen     7043 non-null   int64  \n",
            " 3   Partner           7043 non-null   object \n",
            " 4   Dependents        7043 non-null   object \n",
            " 5   tenure            7043 non-null   int64  \n",
            " 6   PhoneService      7043 non-null   object \n",
            " 7   MultipleLines     7043 non-null   object \n",
            " 8   InternetService   7043 non-null   object \n",
            " 9   OnlineSecurity    7043 non-null   object \n",
            " 10  OnlineBackup      7043 non-null   object \n",
            " 11  DeviceProtection  7043 non-null   object \n",
            " 12  TechSupport       7043 non-null   object \n",
            " 13  StreamingTV       7043 non-null   object \n",
            " 14  StreamingMovies   7043 non-null   object \n",
            " 15  Contract          7043 non-null   object \n",
            " 16  PaperlessBilling  7043 non-null   object \n",
            " 17  PaymentMethod     7043 non-null   object \n",
            " 18  MonthlyCharges    7043 non-null   float64\n",
            " 19  TotalCharges      7043 non-null   object \n",
            " 20  Churn             7043 non-null   object \n",
            "dtypes: float64(1), int64(2), object(18)\n",
            "memory usage: 1.1+ MB\n",
            "None\n",
            "       SeniorCitizen       tenure  MonthlyCharges\n",
            "count    7043.000000  7043.000000     7043.000000\n",
            "mean        0.162147    32.371149       64.761692\n",
            "std         0.368612    24.559481       30.090047\n",
            "min         0.000000     0.000000       18.250000\n",
            "25%         0.000000     9.000000       35.500000\n",
            "50%         0.000000    29.000000       70.350000\n",
            "75%         0.000000    55.000000       89.850000\n",
            "max         1.000000    72.000000      118.750000\n"
          ]
        }
      ],
      "source": [
        "import pandas as pd\n",
        "df= pd.read_csv('customer_churn.csv')\n",
        "print(df.head())\n",
        "print(df.tail())\n",
        "print(df.info())\n",
        "print(df.describe())"
      ]
    },
    {
      "cell_type": "code",
      "execution_count": null,
      "metadata": {
        "colab": {
          "base_uri": "https://localhost:8080/"
        },
        "id": "Y1CUcuC4tK5g",
        "outputId": "732f3d3a-f86c-439a-aca6-e0b7cc1f5de7"
      },
      "outputs": [
        {
          "name": "stdout",
          "output_type": "stream",
          "text": [
            "      customerID  gender  SeniorCitizen Partner Dependents  tenure  \\\n",
            "1672  4737-AQCPU    Male              0     Yes        Yes      72   \n",
            "193   9680-NIAUV  Female              0     Yes        Yes      72   \n",
            "4553  5914-XRFQB    Male              0     Yes         No      72   \n",
            "483   5168-MQQCA  Female              0     Yes         No      72   \n",
            "3266  0464-WJTKO  Female              0     Yes        Yes      72   \n",
            "\n",
            "     PhoneService MultipleLines InternetService       OnlineSecurity  ...  \\\n",
            "1672          Yes           Yes             DSL                  Yes  ...   \n",
            "193           Yes           Yes     Fiber optic                  Yes  ...   \n",
            "4553          Yes           Yes     Fiber optic                  Yes  ...   \n",
            "483           Yes           Yes     Fiber optic                   No  ...   \n",
            "3266          Yes            No              No  No internet service  ...   \n",
            "\n",
            "         DeviceProtection          TechSupport          StreamingTV  \\\n",
            "1672                  Yes                  Yes                   No   \n",
            "193                   Yes                   No                  Yes   \n",
            "4553                  Yes                  Yes                  Yes   \n",
            "483                   Yes                  Yes                  Yes   \n",
            "3266  No internet service  No internet service  No internet service   \n",
            "\n",
            "          StreamingMovies  Contract PaperlessBilling  \\\n",
            "1672                   No  Two year               No   \n",
            "193                   Yes  Two year               No   \n",
            "4553                  Yes  Two year              Yes   \n",
            "483                   Yes  One year              Yes   \n",
            "3266  No internet service  Two year               No   \n",
            "\n",
            "                  PaymentMethod MonthlyCharges  TotalCharges Churn  \n",
            "1672    Credit card (automatic)           72.1       5016.65    No  \n",
            "193     Credit card (automatic)          109.7        8129.3    No  \n",
            "4553  Bank transfer (automatic)          115.8        8424.9    No  \n",
            "483   Bank transfer (automatic)          108.5        8003.8    No  \n",
            "3266  Bank transfer (automatic)           20.1       1460.85    No  \n",
            "\n",
            "[5 rows x 21 columns]\n",
            "      customerID  gender  SeniorCitizen Partner Dependents  tenure  \\\n",
            "1340  1371-DWPAZ  Female              0     Yes        Yes       0   \n",
            "936   5709-LVOEQ  Female              0     Yes        Yes       0   \n",
            "6670  4075-WKNIU  Female              0     Yes        Yes       0   \n",
            "4380  2520-SGTTA  Female              0     Yes        Yes       0   \n",
            "5218  2923-ARZLG    Male              0     Yes        Yes       0   \n",
            "\n",
            "     PhoneService     MultipleLines InternetService       OnlineSecurity  ...  \\\n",
            "1340           No  No phone service             DSL                  Yes  ...   \n",
            "936           Yes                No             DSL                  Yes  ...   \n",
            "6670          Yes               Yes             DSL                   No  ...   \n",
            "4380          Yes                No              No  No internet service  ...   \n",
            "5218          Yes                No              No  No internet service  ...   \n",
            "\n",
            "         DeviceProtection          TechSupport          StreamingTV  \\\n",
            "1340                  Yes                  Yes                  Yes   \n",
            "936                   Yes                   No                  Yes   \n",
            "6670                  Yes                  Yes                  Yes   \n",
            "4380  No internet service  No internet service  No internet service   \n",
            "5218  No internet service  No internet service  No internet service   \n",
            "\n",
            "          StreamingMovies  Contract PaperlessBilling            PaymentMethod  \\\n",
            "1340                   No  Two year               No  Credit card (automatic)   \n",
            "936                   Yes  Two year               No             Mailed check   \n",
            "6670                   No  Two year               No             Mailed check   \n",
            "4380  No internet service  Two year               No             Mailed check   \n",
            "5218  No internet service  One year              Yes             Mailed check   \n",
            "\n",
            "     MonthlyCharges  TotalCharges Churn  \n",
            "1340          56.05                  No  \n",
            "936           80.85                  No  \n",
            "6670          73.35                  No  \n",
            "4380          20.00                  No  \n",
            "5218          19.70                  No  \n",
            "\n",
            "[5 rows x 21 columns]\n"
          ]
        }
      ],
      "source": [
        "df= pd.read_csv('customer_churn.csv')\n",
        "df_sorted= df.sort_values(by='tenure', ascending=False)\n",
        "print(df_sorted.head())\n",
        "df_sorted= df.sort_values(by='tenure', ascending=True)\n",
        "print(df_sorted.head())"
      ]
    },
    {
      "cell_type": "code",
      "execution_count": null,
      "metadata": {
        "colab": {
          "base_uri": "https://localhost:8080/"
        },
        "id": "IKb7vPEatYOQ",
        "outputId": "1f180771-405f-4334-ee45-dad79fcccd23"
      },
      "outputs": [
        {
          "name": "stdout",
          "output_type": "stream",
          "text": [
            "<bound method NDFrame.head of      SeniorCitizen\n",
            "0               No\n",
            "1               No\n",
            "2               No\n",
            "3               No\n",
            "4               No\n",
            "...            ...\n",
            "7038            No\n",
            "7039            No\n",
            "7040            No\n",
            "7041           Yes\n",
            "7042            No\n",
            "\n",
            "[7043 rows x 1 columns]>\n"
          ]
        }
      ],
      "source": [
        "df= pd.read_csv('customer_churn.csv')\n",
        "df['SeniorCitizen']= df['SeniorCitizen']. map({1:'Yes', 0: 'No'})\n",
        "print(df[['SeniorCitizen']].head)"
      ]
    },
    {
      "cell_type": "code",
      "execution_count": null,
      "metadata": {
        "colab": {
          "base_uri": "https://localhost:8080/"
        },
        "id": "Ngyn39_2wHzT",
        "outputId": "7b885fe5-cb17-47d5-88bd-ea956bf6e9d1"
      },
      "outputs": [
        {
          "name": "stdout",
          "output_type": "stream",
          "text": [
            "   MonthlyCharges  MonthlyChargePerYear\n",
            "0           29.85                 358.2\n",
            "1           56.95                 683.4\n",
            "2           53.85                 646.2\n",
            "3           42.30                 507.6\n",
            "4           70.70                 848.4\n"
          ]
        }
      ],
      "source": [
        "df= pd.read_csv('customer_churn.csv')\n",
        "df['MonthlyChargePerYear']= df['MonthlyCharges']*12\n",
        "print(df[['MonthlyCharges', 'MonthlyChargePerYear']].head())"
      ]
    },
    {
      "cell_type": "code",
      "execution_count": null,
      "metadata": {
        "colab": {
          "base_uri": "https://localhost:8080/"
        },
        "id": "meSUMDDAxxo8",
        "outputId": "86a05390-2650-403f-9f21-a73321e9bc3a"
      },
      "outputs": [
        {
          "name": "stdout",
          "output_type": "stream",
          "text": [
            "   MonthlyCharges  MonthlyChargePerYear\n",
            "0           29.85                    12\n",
            "1           56.95                   408\n",
            "2           53.85                    24\n",
            "3           42.30                   540\n",
            "4           70.70                    24\n"
          ]
        }
      ],
      "source": [
        "df= pd.read_csv('customer_churn.csv')\n",
        "df['MonthlyChargePerYear']= df['tenure']*12\n",
        "print(df[['MonthlyCharges', 'MonthlyChargePerYear']].head())"
      ]
    },
    {
      "cell_type": "code",
      "execution_count": null,
      "metadata": {
        "colab": {
          "base_uri": "https://localhost:8080/"
        },
        "id": "bFncoAuByNE-",
        "outputId": "a8bce586-22b1-4fd4-bcec-1cbcc0db1686"
      },
      "outputs": [
        {
          "name": "stdout",
          "output_type": "stream",
          "text": [
            "    customerID  gender  SeniorCitizen Partner Dependents  tenure PhoneService  \\\n",
            "1   5575-GNVDE    Male              0      No         No      34          Yes   \n",
            "3   7795-CFOCW    Male              0      No         No      45           No   \n",
            "8   7892-POOKP  Female              0     Yes         No      28          Yes   \n",
            "9   6388-TABGU    Male              0      No        Yes      62          Yes   \n",
            "12  8091-TTVAX    Male              0     Yes         No      58          Yes   \n",
            "\n",
            "       MultipleLines InternetService OnlineSecurity  ... DeviceProtection  \\\n",
            "1                 No             DSL            Yes  ...              Yes   \n",
            "3   No phone service             DSL            Yes  ...              Yes   \n",
            "8                Yes     Fiber optic             No  ...              Yes   \n",
            "9                 No             DSL            Yes  ...               No   \n",
            "12               Yes     Fiber optic             No  ...              Yes   \n",
            "\n",
            "   TechSupport StreamingTV StreamingMovies        Contract PaperlessBilling  \\\n",
            "1           No          No              No        One year               No   \n",
            "3          Yes          No              No        One year               No   \n",
            "8          Yes         Yes             Yes  Month-to-month              Yes   \n",
            "9           No          No              No        One year               No   \n",
            "12          No         Yes             Yes        One year               No   \n",
            "\n",
            "                PaymentMethod MonthlyCharges  TotalCharges Churn  \n",
            "1                Mailed check          56.95        1889.5    No  \n",
            "3   Bank transfer (automatic)          42.30       1840.75    No  \n",
            "8            Electronic check         104.80       3046.05   Yes  \n",
            "9   Bank transfer (automatic)          56.15       3487.95    No  \n",
            "12    Credit card (automatic)         100.35        5681.1    No  \n",
            "\n",
            "[5 rows x 21 columns]\n",
            "    customerID  gender  SeniorCitizen Partner Dependents  tenure PhoneService  \\\n",
            "2   3668-QPYBK    Male              0      No         No       2          Yes   \n",
            "4   9237-HQITU  Female              0      No         No       2          Yes   \n",
            "5   9305-CDSKC  Female              0      No         No       8          Yes   \n",
            "8   7892-POOKP  Female              0     Yes         No      28          Yes   \n",
            "13  0280-XJGEX    Male              0      No         No      49          Yes   \n",
            "\n",
            "   MultipleLines InternetService OnlineSecurity  ... DeviceProtection  \\\n",
            "2             No             DSL            Yes  ...               No   \n",
            "4             No     Fiber optic             No  ...               No   \n",
            "5            Yes     Fiber optic             No  ...              Yes   \n",
            "8            Yes     Fiber optic             No  ...              Yes   \n",
            "13           Yes     Fiber optic             No  ...              Yes   \n",
            "\n",
            "   TechSupport StreamingTV StreamingMovies        Contract PaperlessBilling  \\\n",
            "2           No          No              No  Month-to-month              Yes   \n",
            "4           No          No              No  Month-to-month              Yes   \n",
            "5           No         Yes             Yes  Month-to-month              Yes   \n",
            "8          Yes         Yes             Yes  Month-to-month              Yes   \n",
            "13          No         Yes             Yes  Month-to-month              Yes   \n",
            "\n",
            "                PaymentMethod MonthlyCharges  TotalCharges Churn  \n",
            "2                Mailed check          53.85        108.15   Yes  \n",
            "4            Electronic check          70.70        151.65   Yes  \n",
            "5            Electronic check          99.65         820.5   Yes  \n",
            "8            Electronic check         104.80       3046.05   Yes  \n",
            "13  Bank transfer (automatic)         103.70        5036.3   Yes  \n",
            "\n",
            "[5 rows x 21 columns]\n"
          ]
        }
      ],
      "source": [
        "df= pd.read_csv('customer_churn.csv')\n",
        "df_subset=df[df['tenure']>24]\n",
        "print(df_subset.head())\n",
        "df_churned= df[df['Churn']=='Yes']\n",
        "print(df_churned.head())"
      ]
    },
    {
      "cell_type": "code",
      "execution_count": null,
      "metadata": {
        "colab": {
          "base_uri": "https://localhost:8080/"
        },
        "id": "zOwoqkbrzR8s",
        "outputId": "fa55aee7-f89a-447c-cf63-702a05742314"
      },
      "outputs": [
        {
          "name": "stdout",
          "output_type": "stream",
          "text": [
            "                MonthlyCharges\n",
            "Contract                      \n",
            "Month-to-month       66.398490\n",
            "One year             65.048608\n",
            "Two year             60.770413\n"
          ]
        }
      ],
      "source": [
        "df_agg= df.groupby('Contract').agg({'MonthlyCharges':'mean'})\n",
        "print(df_agg)"
      ]
    },
    {
      "cell_type": "code",
      "execution_count": null,
      "metadata": {
        "colab": {
          "base_uri": "https://localhost:8080/"
        },
        "id": "ZPH2n_o-zjui",
        "outputId": "fc5eb402-9a8b-440c-8d4f-6c443c56bba6"
      },
      "outputs": [
        {
          "name": "stdout",
          "output_type": "stream",
          "text": [
            "InternetService\n",
            "DSL             459\n",
            "Fiber optic    1297\n",
            "No              113\n",
            "dtype: int64\n"
          ]
        }
      ],
      "source": [
        "df_agg_internet_service= df[df['Churn']=='Yes'].groupby('InternetService').size()\n",
        "print(df_agg_internet_service)"
      ]
    },
    {
      "cell_type": "code",
      "execution_count": null,
      "metadata": {
        "colab": {
          "base_uri": "https://localhost:8080/"
        },
        "id": "Ur7RO6JY0fba",
        "outputId": "22ec20f5-8fbc-4400-c143-c27444e726ee"
      },
      "outputs": [
        {
          "name": "stdout",
          "output_type": "stream",
          "text": [
            "75.7\n"
          ]
        }
      ],
      "source": [
        "df.at[4,'MonthlyCharges']+=5\n",
        "print(df.loc[4,'MonthlyCharges'])"
      ]
    },
    {
      "cell_type": "code",
      "execution_count": null,
      "metadata": {
        "colab": {
          "base_uri": "https://localhost:8080/"
        },
        "id": "kyFEuOvp1L6w",
        "outputId": "c56dd59d-10a0-4698-a39f-25aee7db1d8e"
      },
      "outputs": [
        {
          "name": "stdout",
          "output_type": "stream",
          "text": [
            "90.0\n"
          ]
        }
      ],
      "source": [
        "df.at[5,'MonthlyCharges']-=9.65\n",
        "print(df.loc[5,'MonthlyCharges'])"
      ]
    },
    {
      "cell_type": "code",
      "execution_count": null,
      "metadata": {
        "colab": {
          "base_uri": "https://localhost:8080/"
        },
        "id": "QZSBZI121Ty3",
        "outputId": "ad306e0e-f3b9-4fb6-ea81-35ef836e8bc4"
      },
      "outputs": [
        {
          "name": "stdout",
          "output_type": "stream",
          "text": [
            "89.55000000000001\n"
          ]
        }
      ],
      "source": [
        "df.at[0,'MonthlyCharges']*=3\n",
        "print(df.loc[0,'MonthlyCharges'])"
      ]
    },
    {
      "cell_type": "code",
      "execution_count": null,
      "metadata": {
        "colab": {
          "base_uri": "https://localhost:8080/"
        },
        "id": "kDgx3JKv1kTx",
        "outputId": "8efc1dc7-2222-4513-bfdf-e9b0595de5bb"
      },
      "outputs": [
        {
          "name": "stdout",
          "output_type": "stream",
          "text": [
            "23.233333333333334\n"
          ]
        }
      ],
      "source": [
        "df.at[36,'MonthlyCharges']/=3\n",
        "print(df.loc[36,'MonthlyCharges'])"
      ]
    },
    {
      "cell_type": "code",
      "execution_count": null,
      "metadata": {
        "colab": {
          "base_uri": "https://localhost:8080/"
        },
        "id": "kChETyFr2M-G",
        "outputId": "bc0781b5-3ff8-48b0-d433-54c18e55a29e"
      },
      "outputs": [
        {
          "name": "stdout",
          "output_type": "stream",
          "text": [
            "False\n"
          ]
        }
      ],
      "source": [
        "tenure_greater= df.at[0,'tenure']> df.at[9,'tenure']\n",
        "print(tenure_greater)"
      ]
    },
    {
      "cell_type": "code",
      "execution_count": null,
      "metadata": {
        "colab": {
          "base_uri": "https://localhost:8080/"
        },
        "id": "NMoorAPD2aTg",
        "outputId": "ea93a1f6-ee86-4b20-c489-577b2be5c420"
      },
      "outputs": [
        {
          "name": "stdout",
          "output_type": "stream",
          "text": [
            "True\n"
          ]
        }
      ],
      "source": [
        "tenure_greater= df.at[2,'tenure']== df.at[4,'tenure']\n",
        "print(tenure_greater)"
      ]
    },
    {
      "cell_type": "code",
      "execution_count": null,
      "metadata": {
        "colab": {
          "base_uri": "https://localhost:8080/"
        },
        "id": "gWCPYATZ21mB",
        "outputId": "964d8714-3615-4f38-fa7b-686a2747ec90"
      },
      "outputs": [
        {
          "name": "stdout",
          "output_type": "stream",
          "text": [
            "1218\n"
          ]
        }
      ],
      "source": [
        "both_services_count= df[(df['TechSupport']=='Yes') & (df['StreamingTV']=='Yes')].shape[0]\n",
        "print(both_services_count)"
      ]
    },
    {
      "cell_type": "code",
      "execution_count": null,
      "metadata": {
        "colab": {
          "base_uri": "https://localhost:8080/"
        },
        "id": "_RQwvyig37xW",
        "outputId": "bcf570ff-de70-4ae2-d35a-2dbbccf685b5"
      },
      "outputs": [
        {
          "name": "stdout",
          "output_type": "stream",
          "text": [
            "5517\n"
          ]
        }
      ],
      "source": [
        "internet_dsl_fiber= df[(df['InternetService']== 'DSL') | (df['InternetService']=='Fiber optic')].shape[0]\n",
        "print(internet_dsl_fiber)"
      ]
    },
    {
      "cell_type": "code",
      "execution_count": null,
      "metadata": {
        "colab": {
          "base_uri": "https://localhost:8080/"
        },
        "id": "Xc_iEr665TPq",
        "outputId": "c5f2d176-5a7f-482c-a3e8-3bd877fca065"
      },
      "outputs": [
        {
          "name": "stdout",
          "output_type": "stream",
          "text": [
            "298\n"
          ]
        }
      ],
      "source": [
        "df['SeniorCitizen']= df['SeniorCitizen']. map({1:'Yes', 0: 'No'})\n",
        "senior_male_electronic= df[(df['PaymentMethod']== 'Electronic check') & (df['gender']== 'Male') &(df['SeniorCitizen']== 'Yes') ].shape[0]\n",
        "print(senior_male_electronic)"
      ]
    },
    {
      "cell_type": "code",
      "execution_count": null,
      "metadata": {
        "colab": {
          "base_uri": "https://localhost:8080/"
        },
        "id": "fBp-8GqM58ck",
        "outputId": "d02167ee-22a5-4ab9-9456-ca51ec32dde0"
      },
      "outputs": [
        {
          "name": "stdout",
          "output_type": "stream",
          "text": [
            "customerID          0\n",
            "gender              0\n",
            "SeniorCitizen       0\n",
            "Partner             0\n",
            "Dependents          0\n",
            "tenure              0\n",
            "PhoneService        0\n",
            "MultipleLines       0\n",
            "InternetService     0\n",
            "OnlineSecurity      0\n",
            "OnlineBackup        0\n",
            "DeviceProtection    0\n",
            "TechSupport         0\n",
            "StreamingTV         0\n",
            "StreamingMovies     0\n",
            "Contract            0\n",
            "PaperlessBilling    0\n",
            "PaymentMethod       0\n",
            "MonthlyCharges      0\n",
            "TotalCharges        0\n",
            "Churn               0\n",
            "dtype: int64\n",
            "0\n"
          ]
        }
      ],
      "source": [
        "missing_values_count= df.isnull().sum()\n",
        "print(missing_values_count)\n",
        "\n",
        "missing_values_count= df.isnull().sum().sum()\n",
        "print(missing_values_count)"
      ]
    },
    {
      "cell_type": "code",
      "execution_count": null,
      "metadata": {
        "colab": {
          "base_uri": "https://localhost:8080/"
        },
        "id": "ZCLg1Ma57RSj",
        "outputId": "66a43da2-7a50-45ef-a13c-34b7ee92c03d"
      },
      "outputs": [
        {
          "name": "stdout",
          "output_type": "stream",
          "text": [
            "customerID          0\n",
            "gender              1\n",
            "SeniorCitizen       3\n",
            "Partner             2\n",
            "Dependents          5\n",
            "tenure              2\n",
            "PhoneService        1\n",
            "MultipleLines       3\n",
            "InternetService     3\n",
            "OnlineSecurity      1\n",
            "OnlineBackup        3\n",
            "DeviceProtection    2\n",
            "TechSupport         0\n",
            "StreamingTV         3\n",
            "StreamingMovies     1\n",
            "Contract            1\n",
            "PaperlessBilling    1\n",
            "PaymentMethod       4\n",
            "MonthlyCharges      0\n",
            "TotalCharges        0\n",
            "Churn               0\n",
            "dtype: int64\n",
            "36\n"
          ]
        }
      ],
      "source": [
        "df= pd.read_csv('customer_churn.csv')\n",
        "missing_values_count= df.isnull().sum()\n",
        "print(missing_values_count)\n",
        "\n",
        "missing_values_count= df.isnull().sum().sum()\n",
        "print(missing_values_count)"
      ]
    },
    {
      "cell_type": "code",
      "execution_count": null,
      "metadata": {
        "colab": {
          "base_uri": "https://localhost:8080/"
        },
        "id": "R3BxZ7jO8Nz9",
        "outputId": "cfce2809-3d20-4bb1-f945-3522780fd2b9"
      },
      "outputs": [
        {
          "name": "stdout",
          "output_type": "stream",
          "text": [
            "    customerID  gender  SeniorCitizen Partner Dependents  tenure PhoneService  \\\n",
            "9   6388-TABGU    Male            0.0      No        Yes    62.0          Yes   \n",
            "23  3638-WEABW  Female            0.0     Yes         No    58.0          Yes   \n",
            "24  6322-HRPFA    Male            0.0     Yes        Yes    49.0          Yes   \n",
            "28  5248-YGIJN    Male            0.0     Yes         No    72.0          Yes   \n",
            "43  4671-VJLCL  Female            0.0      No         No    63.0          Yes   \n",
            "\n",
            "   MultipleLines InternetService OnlineSecurity  ... DeviceProtection  \\\n",
            "9             No             DSL            Yes  ...               No   \n",
            "23           Yes             DSL             No  ...               No   \n",
            "24            No             DSL            Yes  ...               No   \n",
            "28           Yes             DSL            Yes  ...              Yes   \n",
            "43           NaN             DSL            Yes  ...              Yes   \n",
            "\n",
            "   TechSupport StreamingTV StreamingMovies        Contract PaperlessBilling  \\\n",
            "9           No         NaN              No        One year               No   \n",
            "23         Yes          No              No        Two year              Yes   \n",
            "24         Yes          No              No  Month-to-month               No   \n",
            "28         Yes         Yes             Yes        Two year              Yes   \n",
            "43         Yes         Yes              No        Two year              Yes   \n",
            "\n",
            "                PaymentMethod MonthlyCharges  TotalCharges Churn  \n",
            "9   Bank transfer (automatic)          56.15       3487.95    No  \n",
            "23    Credit card (automatic)          59.90        3505.1    No  \n",
            "24                        NaN          59.60        2970.3    No  \n",
            "28    Credit card (automatic)          90.25       6369.45    No  \n",
            "43    Credit card (automatic)          79.85       4861.45    No  \n",
            "\n",
            "[5 rows x 21 columns]\n"
          ]
        }
      ],
      "source": [
        "dsl_tenure_above_48= df[(df['InternetService']== 'DSL') & (df['tenure']>45)]\n",
        "print(dsl_tenure_above_48.head())"
      ]
    },
    {
      "cell_type": "code",
      "execution_count": null,
      "metadata": {
        "colab": {
          "base_uri": "https://localhost:8080/"
        },
        "id": "hXOvMeXV8-Qm",
        "outputId": "8be3265b-5010-4aae-eb8f-255afd56f5fa"
      },
      "outputs": [
        {
          "name": "stdout",
          "output_type": "stream",
          "text": [
            "72.0\n"
          ]
        }
      ],
      "source": [
        "max_tenure= df['tenure'].max()\n",
        "print(max_tenure)"
      ]
    },
    {
      "cell_type": "code",
      "execution_count": null,
      "metadata": {
        "colab": {
          "base_uri": "https://localhost:8080/"
        },
        "id": "Mqd_DV2vCwAV",
        "outputId": "bd8b0456-fcdd-4dad-adab-6e631e89cfb7"
      },
      "outputs": [
        {
          "name": "stdout",
          "output_type": "stream",
          "text": [
            "   tenure Tenure_Grade\n",
            "0       1          Low\n",
            "1      34       Medium\n",
            "2       2          Low\n",
            "3      45       Medium\n",
            "4       2          Low\n"
          ]
        }
      ],
      "source": [
        "import pandas as pd\n",
        "df= pd.read_csv('customer_churn.csv')\n",
        "df.loc[(df['tenure'] > 0) & (df['tenure'] <= 25), 'Tenure_Grade'] = 'Low'\n",
        "df.loc[(df['tenure'] > 25) & (df['tenure'] <= 50), 'Tenure_Grade'] = 'Medium'\n",
        "df.loc[(df['tenure'] > 50) & (df['tenure'] <= 100), 'Tenure_Grade'] = 'High'\n",
        "print(df[['tenure', 'Tenure_Grade']].head())\n",
        "df.to_csv('customer_churn_updated.csv')"
      ]
    },
    {
      "cell_type": "code",
      "execution_count": null,
      "metadata": {
        "colab": {
          "base_uri": "https://localhost:8080/"
        },
        "id": "HnLrpeuIBShD",
        "outputId": "b3a935ea-30cd-43b7-8207-2c577086dffe"
      },
      "outputs": [
        {
          "name": "stdout",
          "output_type": "stream",
          "text": [
            "      customerID  gender  SeniorCitizen Partner Dependents  tenure  \\\n",
            "0     7590-VHVEG  Female              0     Yes         No       1   \n",
            "1     5575-GNVDE    Male              0      No         No      34   \n",
            "2     3668-QPYBK    Male              0      No         No       2   \n",
            "3     7795-CFOCW    Male              0      No         No      45   \n",
            "4     9237-HQITU  Female              0      No         No       2   \n",
            "...          ...     ...            ...     ...        ...     ...   \n",
            "7038  6840-RESVB    Male              0     Yes        Yes      24   \n",
            "7039  2234-XADUH  Female              0     Yes        Yes      72   \n",
            "7040  4801-JZAZL  Female              0     Yes        Yes      11   \n",
            "7041  8361-LTMKD    Male              1     Yes         No       4   \n",
            "7042  3186-AJIEK    Male              0      No         No      66   \n",
            "\n",
            "     PhoneService     MultipleLines InternetService OnlineSecurity  ...  \\\n",
            "0              No  No phone service             DSL             No  ...   \n",
            "1             Yes                No             DSL            Yes  ...   \n",
            "2             Yes                No             DSL            Yes  ...   \n",
            "3              No  No phone service             DSL            Yes  ...   \n",
            "4             Yes                No     Fiber optic             No  ...   \n",
            "...           ...               ...             ...            ...  ...   \n",
            "7038          Yes               Yes             DSL            Yes  ...   \n",
            "7039          Yes               Yes     Fiber optic             No  ...   \n",
            "7040           No  No phone service             DSL            Yes  ...   \n",
            "7041          Yes               Yes     Fiber optic             No  ...   \n",
            "7042          Yes                No     Fiber optic            Yes  ...   \n",
            "\n",
            "     TechSupport StreamingTV StreamingMovies        Contract PaperlessBilling  \\\n",
            "0             No          No              No  Month-to-month              Yes   \n",
            "1             No          No              No        One year               No   \n",
            "2             No          No              No  Month-to-month              Yes   \n",
            "3            Yes          No              No        One year               No   \n",
            "4             No          No              No  Month-to-month              Yes   \n",
            "...          ...         ...             ...             ...              ...   \n",
            "7038         Yes         Yes             Yes        One year              Yes   \n",
            "7039          No         Yes             Yes        One year              Yes   \n",
            "7040          No          No              No  Month-to-month              Yes   \n",
            "7041          No          No              No  Month-to-month              Yes   \n",
            "7042         Yes         Yes             Yes        Two year              Yes   \n",
            "\n",
            "                  PaymentMethod MonthlyCharges TotalCharges  Churn  \\\n",
            "0              Electronic check          29.85        29.85     No   \n",
            "1                  Mailed check          56.95       1889.5     No   \n",
            "2                  Mailed check          53.85       108.15    Yes   \n",
            "3     Bank transfer (automatic)          42.30      1840.75     No   \n",
            "4              Electronic check          70.70       151.65    Yes   \n",
            "...                         ...            ...          ...    ...   \n",
            "7038               Mailed check          84.80       1990.5     No   \n",
            "7039    Credit card (automatic)         103.20       7362.9     No   \n",
            "7040           Electronic check          29.60       346.45     No   \n",
            "7041               Mailed check          74.40        306.6    Yes   \n",
            "7042  Bank transfer (automatic)         105.65       6844.5     No   \n",
            "\n",
            "     Tenure_Grade  \n",
            "0             Low  \n",
            "1          Medium  \n",
            "2             Low  \n",
            "3          Medium  \n",
            "4             Low  \n",
            "...           ...  \n",
            "7038          Low  \n",
            "7039         High  \n",
            "7040          Low  \n",
            "7041          Low  \n",
            "7042         High  \n",
            "\n",
            "[7043 rows x 22 columns]\n"
          ]
        }
      ],
      "source": [
        "df['Tenure_Grade'] = df['tenure'].apply(\n",
        "    lambda x: 'High' if x > 50 else 'Medium' if x > 25 else 'Low'\n",
        ")\n",
        "print(df)"
      ]
    }
  ],
  "metadata": {
    "colab": {
      "provenance": []
    },
    "kernelspec": {
      "display_name": "Python 3",
      "name": "python3"
    },
    "language_info": {
      "codemirror_mode": {
        "name": "ipython",
        "version": 3
      },
      "file_extension": ".py",
      "mimetype": "text/x-python",
      "name": "python",
      "nbconvert_exporter": "python",
      "pygments_lexer": "ipython3",
      "version": "3.12.6"
    }
  },
  "nbformat": 4,
  "nbformat_minor": 0
}
